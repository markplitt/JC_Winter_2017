{
 "cells": [
  {
   "cell_type": "code",
   "execution_count": 15,
   "metadata": {
    "collapsed": false,
    "nbpresent": {
     "id": "88edcd8a-7088-489d-8be4-af552a6b1e74"
    },
    "slideshow": {
     "slide_type": "skip"
    }
   },
   "outputs": [],
   "source": [
    "%matplotlib inline\n",
    "from ipywidgets import *\n",
    "import numpy as np\n",
    "import matplotlib.pyplot as plt"
   ]
  },
  {
   "cell_type": "code",
   "execution_count": 100,
   "metadata": {
    "collapsed": false,
    "nbpresent": {
     "id": "d7577ec1-0e2e-46be-bcbe-806327cd26b8"
    },
    "slideshow": {
     "slide_type": "slide"
    }
   },
   "outputs": [
    {
     "data": {
      "image/png": "[encoded data removed]",
      "text/plain": [
       "<matplotlib.figure.Figure at 0x10ef72b70>"
      ]
     },
     "metadata": {},
     "output_type": "display_data"
    }
   ],
   "source": [
    "x = np.arange(0.,20.0,.01)\n",
    "def gaussian(x,mu,sigma):\n",
    "    return np.exp(-np.square(x-mu)/(2.0*sigma**2))\n",
    "\n",
    "def past_thresh(y):\n",
    "    return np.array([y[i:].sum()/y.sum() for i in range(y.size)])\n",
    "\n",
    "def plot_gaussians(mu1,sigma1,mu2,sigma2,thresh):\n",
    "    y1 = gaussian(x,mu1,sigma1)\n",
    "    y2 = gaussian(x,mu2,sigma2)\n",
    "    \n",
    "    \n",
    "    tpr,fpr = past_thresh(y1), past_thresh(y2)\n",
    "    \n",
    "    \n",
    "    plt.subplot(121)\n",
    "    plt.plot(x,y1,'r-',x,-y2,'k-',[thresh, thresh],[1, -1])\n",
    "    plt.xlabel('Mean FR')\n",
    "    plt.ylabel('% of trials')\n",
    "    \n",
    "    \n",
    "    #find closest value to x of threshold\n",
    "    thresh_i = np.argmin(np.abs(x-thresh))\n",
    "    \n",
    "    aoc = np.multiply(tpr,-np.insert(fpr[1:]-fpr[0:-1],-1,1-fpr[-1])).sum()\n",
    "    aoc_str = \"AOC = %.3g\" % aoc\n",
    "    plt.subplot(122)\n",
    "    unity = np.arange(0,1,.01)\n",
    "    plt.plot(fpr, tpr,'b-',unity,unity,'k--',fpr[thresh_i],tpr[thresh_i],'g*',ms=10)\n",
    "    plt.xlabel('False Positive Rate')\n",
    "    plt.ylabel('True Positive Rate')\n",
    "    plt.text(.5,0,aoc_str)\n",
    "    plt.tight_layout()\n",
    "    plt.show\n",
    "\n",
    "    \n",
    "\n",
    "interact(plot_gaussians,mu1 = (0,20,.1), sigma1 = (.1,5.,.1),mu2 = (0,20,.1), sigma2 = (.1,5.,.1),\n",
    "        thresh = (0,20,.1))\n",
    "    "
   ]
  },
  {
   "cell_type": "code",
   "execution_count": null,
   "metadata": {
    "collapsed": true
   },
   "outputs": [],
   "source": []
  }
 ],
 "metadata": {
  "celltoolbar": "Slideshow",
  "kernelspec": {
   "display_name": "Python [conda root]",
   "language": "python",
   "name": "conda-root-py"
  },
  "language_info": {
   "codemirror_mode": {
    "name": "ipython",
    "version": 3
   },
   "file_extension": ".py",
   "mimetype": "text/x-python",
   "name": "python",
   "nbconvert_exporter": "python",
   "pygments_lexer": "ipython3",
   "version": "3.5.2"
  },
  "nbpresent": {
   "slides": {
    "e5540915-165a-4de4-834a-f7208d9f9b83": {
     "id": "e5540915-165a-4de4-834a-f7208d9f9b83",
     "prev": null,
     "regions": {
      "00589ee2-a6cc-4599-9750-9021d4070321": {
       "attrs": {
        "height": 0.5590027700831026,
        "width": 0.8,
        "x": 0.1,
        "y": 0.3409972299168975
       },
       "content": {
        "cell": "d7577ec1-0e2e-46be-bcbe-806327cd26b8",
        "part": "outputs"
       },
       "id": "00589ee2-a6cc-4599-9750-9021d4070321"
      },
      "d4b2a617-a078-4f57-87bb-14fdf494a4b3": {
       "attrs": {
        "height": 0.25706371191135746,
        "width": 0.3434556786703602,
        "x": 0.05169667590027701,
        "y": 0.058448753462603864
       },
       "content": {
        "cell": "d7577ec1-0e2e-46be-bcbe-806327cd26b8",
        "part": "widgets"
       },
       "id": "d4b2a617-a078-4f57-87bb-14fdf494a4b3"
      }
     }
    }
   },
   "themes": {}
  },
  "widgets": {
   "state": {
    "71f0ccd4380b43e0a21f7db8645b8081": {
     "views": [
      {
       "cell_index": 2
      }
     ]
    }
   },
   "version": "1.2.0"
  }
 },
 "nbformat": 4,
 "nbformat_minor": 2
}
